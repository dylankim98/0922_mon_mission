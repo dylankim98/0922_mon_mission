{
  "nbformat": 4,
  "nbformat_minor": 0,
  "metadata": {
    "colab": {
      "provenance": [],
      "include_colab_link": true
    },
    "kernelspec": {
      "name": "python3",
      "display_name": "Python 3"
    },
    "language_info": {
      "name": "python"
    }
  },
  "cells": [
    {
      "cell_type": "markdown",
      "metadata": {
        "id": "view-in-github",
        "colab_type": "text"
      },
      "source": [
        "<a href=\"https://colab.research.google.com/github/dylankim98/0922_mon_mission/blob/main/0922_mission__ipynb%EC%9D%98_%EC%82%AC%EB%B3%B8.ipynb\" target=\"_parent\"><img src=\"https://colab.research.google.com/assets/colab-badge.svg\" alt=\"Open In Colab\"/></a>"
      ]
    },
    {
      "cell_type": "code",
      "source": [
        "# 숫자맞추기 게임\n",
        "# 1. 입력받을 때 숫자 5가지\n",
        "# 2. 숫자만 맞는 경우는 볼\n",
        "# 3. 숫자와 위치까지 맞는 경우는 스트라이크\n",
        "# 4. 프로그램이 시작할때 5가지 숫자는 초기화\n",
        "# + 추가 : 끝내기 기능\n",
        "# + 추가 : 정답, 입력값 기능\n",
        "\n",
        "\n",
        "# class, def <-- # 다른 사람들과 협업이 쉽다.\n",
        "#            <-- # 완성된 코드 문단을 그대로 공유하면 되기에.\n"
      ],
      "metadata": {
        "id": "z7utmQv-PFzu"
      },
      "execution_count": null,
      "outputs": []
    },
    {
      "cell_type": "code",
      "source": [
        "\n",
        "import random\n",
        "\n",
        "def Q1():\n",
        "    answer = ''.join(random.sample('0123456789', 5))\n",
        "    print('===숫자 야구 게임===')\n",
        "    attempt = 0\n",
        "\n",
        "    while True:\n",
        "        guess = input('5가지 숫자를 입력하세요. / quit하면 loop 탈출')\n",
        "        if guess == 'quit':\n",
        "            break\n",
        "        if len(guess) != 5 or not guess.isdigit():\n",
        "            print('다시 입력하세요.')\n",
        "            continue\n",
        "\n",
        "        elif len(set(guess)) != 5:\n",
        "            print('다시 입력해주세요. 서로 다른 5가지 숫자로 !')\n",
        "            continue\n",
        "\n",
        "        attempt += 1\n",
        "        ball = 0\n",
        "        strike = 0\n",
        "\n",
        "        for i in range(5):  # range : 0~4\n",
        "            if guess[i] == answer[i]:\n",
        "                strike += 1\n",
        "            elif guess[i] in answer:\n",
        "                ball += 1\n",
        "\n",
        "        print(\"\\n\" + \"─\" * 40)\n",
        "        print(f\" [시도 {attempt}회차 결과]\")\n",
        "        print(f'정답: {answer}, 입력: {guess}')\n",
        "        print(f'skrike 점수 : {strike} , ball 점수 : {ball}')\n",
        "\n",
        "\n",
        "        if strike == 5:\n",
        "            print('정답입니다.')\n",
        "            break\n",
        "\n",
        "Q1()\n"
      ],
      "metadata": {
        "colab": {
          "base_uri": "https://localhost:8080/"
        },
        "id": "7e1-WCDbDZ__",
        "outputId": "f136d130-ca7c-4edc-a8ef-7f57cef66848"
      },
      "execution_count": null,
      "outputs": [
        {
          "name": "stdout",
          "output_type": "stream",
          "text": [
            "===숫자 야구 게임===\n",
            "5가지 숫자를 입력하세요. / quit하면 loop 탈출12345\n",
            "\n",
            "────────────────────────────────────────\n",
            " [시도 1회차 결과]\n",
            "정답: 86254, 입력: 12345\n",
            "skrike 점수 : 0 , ball 점수 : 3\n",
            "5가지 숫자를 입력하세요. / quit하면 loop 탈출23456\n",
            "\n",
            "────────────────────────────────────────\n",
            " [시도 2회차 결과]\n",
            "정답: 86254, 입력: 23456\n",
            "skrike 점수 : 1 , ball 점수 : 3\n",
            "5가지 숫자를 입력하세요. / quit하면 loop 탈출quit\n"
          ]
        }
      ]
    }
  ]
}